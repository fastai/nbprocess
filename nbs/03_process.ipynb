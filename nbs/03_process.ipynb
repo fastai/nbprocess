{
 "cells": [
  {
   "cell_type": "code",
   "execution_count": null,
   "id": "bce55715",
   "metadata": {},
   "outputs": [],
   "source": [
    "#|hide\n",
    "#|default_exp process"
   ]
  },
  {
   "cell_type": "markdown",
   "id": "f6b8b4a6",
   "metadata": {},
   "source": [
    "# process\n",
    "> A notebook processor"
   ]
  },
  {
   "cell_type": "code",
   "execution_count": null,
   "id": "59172c3d",
   "metadata": {},
   "outputs": [],
   "source": [
    "#|export\n",
    "from nbprocess.read import *\n",
    "from nbprocess.maker import *\n",
    "from nbprocess.imports import *\n",
    "\n",
    "from execnb.nbio import *\n",
    "from fastcore.script import *\n",
    "from fastcore.imports import *\n",
    "from fastcore.xtras import *\n",
    "\n",
    "from collections import defaultdict\n",
    "from pprint import pformat\n",
    "from inspect import signature,Parameter\n",
    "import ast,contextlib,copy"
   ]
  },
  {
   "cell_type": "code",
   "execution_count": null,
   "id": "ce00cb74",
   "metadata": {},
   "outputs": [],
   "source": [
    "#|hide\n",
    "from fastcore.test import *\n",
    "from pdb import set_trace\n",
    "from importlib import reload\n",
    "from fastcore import shutil"
   ]
  },
  {
   "cell_type": "markdown",
   "id": "cbe57d96",
   "metadata": {},
   "source": [
    "Special comments at the start of a cell can be used to provide information to `nbprocess` about how to process a cell, so we need to be able to find the location of these comments."
   ]
  },
  {
   "cell_type": "code",
   "execution_count": null,
   "id": "48fdaa8d",
   "metadata": {},
   "outputs": [],
   "source": [
    "minimal = read_nb('../tests/minimal.ipynb')"
   ]
  },
  {
   "cell_type": "code",
   "execution_count": null,
   "id": "484a1df8",
   "metadata": {},
   "outputs": [],
   "source": [
    "#|export\n",
    "\n",
    "_dir_pre = r'\\s*#\\s*\\|'\n",
    "_quarto_re = re.compile(_dir_pre + r'\\s*\\w+\\s*:')\n",
    "\n",
    "def _directive(s):\n",
    "    s = re.sub('^'+_dir_pre, \"#|\", s)\n",
    "    if ':' in s: s = s.replace(':', ': ')\n",
    "    s = (s.strip()[2:]).strip().split()\n",
    "    if not s: return None\n",
    "    direc,*args = s\n",
    "    return direc,args"
   ]
  },
  {
   "cell_type": "code",
   "execution_count": null,
   "id": "100a91fb-8b46-4feb-afbf-d1e78c14cfd6",
   "metadata": {},
   "outputs": [],
   "source": [
    "#|export\n",
    "def _norm_quarto(s):\n",
    "    \"normalize quarto directives so they have a space after the colon\"\n",
    "    m = _quarto_re.match(s)\n",
    "    return m.group(0) + ' ' + _quarto_re.sub('', s).lstrip() if m else s"
   ]
  },
  {
   "cell_type": "code",
   "execution_count": null,
   "id": "b496a9b3-b90b-4831-9454-4c4c3b8e89f1",
   "metadata": {},
   "outputs": [],
   "source": [
    "#|hide\n",
    "test_eq(_norm_quarto('#|foo:bar'), '#|foo: bar')\n",
    "test_eq(_norm_quarto('#|foo:  bar'), '#|foo: bar')\n",
    "test_eq(_norm_quarto('#|not_quarto'), '#|not_quarto')"
   ]
  },
  {
   "cell_type": "code",
   "execution_count": null,
   "id": "69befb76-aa77-4923-bfcc-2606613d706f",
   "metadata": {},
   "outputs": [],
   "source": [
    "#|export\n",
    "def first_code_ln(code_list, re_pattern=_dir_pre): \n",
    "    \"get first line number where code occurs, where `code_list` is a list of code\"\n",
    "    return first(i for i,o in enumerate(code_list) if o.strip() != '' and not re.match(re_pattern, o))"
   ]
  },
  {
   "cell_type": "code",
   "execution_count": null,
   "id": "86547300-342c-4b8e-917d-f09c7cd1e01f",
   "metadata": {},
   "outputs": [],
   "source": [
    "_tst = \"\"\" \n",
    "#|default_exp\n",
    " #|export\n",
    "#|hide_input\n",
    "foo\n",
    "\"\"\"\n",
    "test_eq(first_code_ln(_tst.splitlines(True)), 4)"
   ]
  },
  {
   "cell_type": "code",
   "execution_count": null,
   "id": "3cca78a4",
   "metadata": {},
   "outputs": [],
   "source": [
    "#|export\n",
    "def extract_directives(cell, remove=True):\n",
    "    \"Take leading comment directives from lines of code in `ss`, remove `#|`, and split\"\n",
    "    if cell.source:\n",
    "        ss = cell.source.splitlines(True)\n",
    "        first_code = first_code_ln(ss)\n",
    "        if not ss or first_code==0: return {}\n",
    "        pre = ss[:first_code]\n",
    "        if remove:\n",
    "            # Leave Quarto directives in place for later processing\n",
    "            cell['source'] = ''.join([_norm_quarto(o) for o in pre if _quarto_re.match(o)] + ss[first_code:])\n",
    "        return dict(L(_directive(s) for s in pre).filter())"
   ]
  },
  {
   "cell_type": "markdown",
   "id": "d58cda54",
   "metadata": {},
   "source": [
    "Comment directives start with `#|`, followed by whitespace delimited tokens, which `extract_directives` extracts from the start of a cell, up until a blank line or a line containing something other than comments. The extracted lines are removed from the source."
   ]
  },
  {
   "cell_type": "code",
   "execution_count": null,
   "id": "9ec3d86d",
   "metadata": {},
   "outputs": [],
   "source": [
    "exp  = AttrDict(source = \"\"\"#|export module\n",
    "#|eval:false\n",
    "#| hide\n",
    "# | foo bar\n",
    "# |woo: baz\n",
    "1+2\n",
    "#bar\"\"\")\n",
    "test_eq(extract_directives(exp), {'export':['module'], 'hide':[], 'eval:': ['false'], 'foo': ['bar'], 'woo:': ['baz']})\n",
    "test_eq(exp.source, '#|eval: false\\n# |woo: baz\\n1+2\\n#bar')"
   ]
  },
  {
   "cell_type": "code",
   "execution_count": null,
   "id": "e6701805",
   "metadata": {},
   "outputs": [],
   "source": [
    "#|export\n",
    "def opt_set(var, newval):\n",
    "    \"newval if newval else var\"\n",
    "    return newval if newval else var"
   ]
  },
  {
   "cell_type": "code",
   "execution_count": null,
   "id": "98c9d556",
   "metadata": {},
   "outputs": [],
   "source": [
    "#|export\n",
    "def instantiate(x, **kwargs):\n",
    "    \"Instantiate `x` if it's a type\"\n",
    "    return x(**kwargs) if isinstance(x,type) else x\n",
    "\n",
    "def _mk_procs(procs, nb): return L(procs).map(instantiate, nb=nb)"
   ]
  },
  {
   "cell_type": "code",
   "execution_count": null,
   "id": "ab147efe",
   "metadata": {},
   "outputs": [],
   "source": [
    "#|export\n",
    "def _is_direc(f): return getattr(f, '__name__', '-')[-1]=='_'"
   ]
  },
  {
   "cell_type": "code",
   "execution_count": null,
   "id": "7c81f109",
   "metadata": {},
   "outputs": [],
   "source": [
    "#|export\n",
    "class NBProcessor:\n",
    "    \"Process cells and nbdev comments in a notebook\"\n",
    "    def __init__(self, path=None, procs=None, preprocs=None, postprocs=None, nb=None, debug=False, rm_directives=True, process=False):\n",
    "        self.nb = read_nb(path) if nb is None else nb\n",
    "        self.procs,self.preprocs,self.postprocs = map_ex((procs,preprocs,postprocs), _mk_procs, nb=self.nb)\n",
    "        self.debug,self.rm_directives = debug,rm_directives\n",
    "        if process: self.process()\n",
    "\n",
    "    def _process_cell(self, cell):\n",
    "        self.cell = cell\n",
    "        for proc in self.procs:\n",
    "            if cell.cell_type=='code' and cell.directives_:\n",
    "                for cmd,args in cell.directives_.items():\n",
    "                    self._process_comment(proc, cell, cmd, args)\n",
    "                    if not hasattr(cell,'source'): return\n",
    "            if callable(proc) and not _is_direc(proc): cell = opt_set(cell, proc(cell))\n",
    "            if not hasattr(cell,'source'): return\n",
    "\n",
    "    def _process_comment(self, proc, cell, cmd, args):\n",
    "        if _is_direc(proc) and getattr(proc, '__name__', '-')[:-1]==cmd: f=proc\n",
    "        else: f = getattr(proc, f'_{cmd}_', None)\n",
    "        if not f: return\n",
    "        if self.debug: print(cmd, args, f)\n",
    "        return f(self, cell, *args)\n",
    "        \n",
    "    def process(self):\n",
    "        \"Process all cells with `process_cell`\"\n",
    "        for proc in self.preprocs:\n",
    "            self.nb = opt_set(self.nb, proc(self.nb))\n",
    "            for i,cell in enumerate(self.nb.cells): cell.idx_ = i\n",
    "        for cell in self.nb.cells: cell.directives_ = extract_directives(cell, remove=self.rm_directives)\n",
    "        for cell in self.nb.cells: self._process_cell(cell)\n",
    "        for proc in self.postprocs: self.nb = opt_set(self.nb, proc(self.nb))\n",
    "        self.nb.cells = [c for c in self.nb.cells if c and getattr(c,'source',None) is not None]"
   ]
  },
  {
   "cell_type": "markdown",
   "id": "85874d36",
   "metadata": {},
   "source": [
    "Cell processors can be callables (e.g regular functions), in which case they are called for every cell:"
   ]
  },
  {
   "cell_type": "code",
   "execution_count": null,
   "id": "babdd6d0",
   "metadata": {},
   "outputs": [],
   "source": [
    "everything_fn = '../tests/01_everything.ipynb'\n",
    "\n",
    "def print_execs(cell):\n",
    "    if 'exec' in cell.source: print(cell.source)\n",
    "\n",
    "NBProcessor(everything_fn, print_execs).process()"
   ]
  },
  {
   "cell_type": "markdown",
   "id": "a8202589",
   "metadata": {},
   "source": [
    "Comment directives are put in a cell attribute `directive_` as a dictionary keyed by directive name:"
   ]
  },
  {
   "cell_type": "code",
   "execution_count": null,
   "id": "6da4a177",
   "metadata": {},
   "outputs": [],
   "source": [
    "def printme_func(cell):\n",
    "    if cell.directives_ and 'printme' in cell.directives_: print(cell.directives_['printme'])\n",
    "\n",
    "NBProcessor(everything_fn, printme_func).process()"
   ]
  },
  {
   "cell_type": "markdown",
   "id": "315106a7",
   "metadata": {},
   "source": [
    "However, a more convenient way to handle comment directives is to use a *class* as a processor, and include a method in your class with the same name as your directive, surrounded by underscores:"
   ]
  },
  {
   "cell_type": "code",
   "execution_count": null,
   "id": "060f85c1",
   "metadata": {},
   "outputs": [],
   "source": [
    "class _PrintExample:\n",
    "    def _printme_(self, nbp, cell, to_print): print(to_print)\n",
    "\n",
    "NBProcessor(everything_fn, _PrintExample()).process()"
   ]
  },
  {
   "cell_type": "markdown",
   "id": "15c01642",
   "metadata": {},
   "source": [
    "In the case that your processor supports just one comment directive, you can just use a regular function, with the same name as your directive, but with an underscore appended -- here `printme_` is identical to `_PrintExample` above:"
   ]
  },
  {
   "cell_type": "code",
   "execution_count": null,
   "id": "a9396951",
   "metadata": {},
   "outputs": [],
   "source": [
    "def printme_(nbp, cell, to_print): print(to_print)\n",
    "\n",
    "NBProcessor(everything_fn, printme_).process()"
   ]
  },
  {
   "cell_type": "markdown",
   "id": "e95db40d",
   "metadata": {},
   "source": [
    "## Export -"
   ]
  },
  {
   "cell_type": "code",
   "execution_count": null,
   "id": "4e85652c",
   "metadata": {},
   "outputs": [],
   "source": [
    "#|eval: false\n",
    "basic_export_nb2('01_read.ipynb', 'read')\n",
    "basic_export_nb2('02_maker.ipynb', 'maker')\n",
    "basic_export_nb2('03_process.ipynb', 'process')\n",
    "\n",
    "g = exec_new('import nbprocess.process')\n",
    "assert hasattr(g['nbprocess'].process, 'NBProcessor')"
   ]
  },
  {
   "cell_type": "code",
   "execution_count": null,
   "id": "af6db102-2447-49ba-94d9-bfebfb48c0f0",
   "metadata": {},
   "outputs": [],
   "source": []
  }
 ],
 "metadata": {
  "kernelspec": {
   "display_name": "Python 3 (ipykernel)",
   "language": "python",
   "name": "python3"
  }
 },
 "nbformat": 4,
 "nbformat_minor": 5
}
