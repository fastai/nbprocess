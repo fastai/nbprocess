{
 "cells": [
  {
   "cell_type": "code",
   "execution_count": null,
   "id": "c497928c-8111-473e-aeae-38975d78f707",
   "metadata": {},
   "outputs": [],
   "source": [
    "#|default_exp migrate"
   ]
  },
  {
   "cell_type": "markdown",
   "id": "e9c38f72-896e-45ed-8809-731bfa7b2178",
   "metadata": {},
   "source": [
    "# Migrate to nbprocess\n",
    "> Utilities for migrating to nbprocess"
   ]
  },
  {
   "cell_type": "code",
   "execution_count": null,
   "id": "5b687fa0-dc50-48df-8bfc-e98df34e7572",
   "metadata": {},
   "outputs": [],
   "source": [
    "#|export\n",
    "from nbprocess.process import first_code_ln\n",
    "from nbprocess.processors import nb_fmdict, construct_fm, insert_frontmatter, is_frontmatter\n",
    "from nbprocess.read import read_nb, config_key\n",
    "from nbprocess.sync import write_nb\n",
    "from nbprocess.clean import process_write, wrapio\n",
    "from fastcore.all import *\n",
    "from json import loads"
   ]
  },
  {
   "cell_type": "markdown",
   "id": "4b088531-3b5c-4d6a-9969-b0ff90633549",
   "metadata": {},
   "source": [
    "## Convert fastpages blog posts to nbprocess"
   ]
  },
  {
   "cell_type": "code",
   "execution_count": null,
   "id": "a7edd980-b987-4f45-8c58-65ed5f145575",
   "metadata": {},
   "outputs": [],
   "source": [
    "#|export\n",
    "def _get_fm(path): return nb_fmdict(read_nb(path), remove=False)\n",
    "def _get_raw_fm(nb): \n",
    "    return first(nb.cells.filter(lambda x: x.cell_type == 'raw')).source"
   ]
  },
  {
   "cell_type": "code",
   "execution_count": null,
   "id": "52f60fb5-bc54-474a-876c-9146dd092681",
   "metadata": {},
   "outputs": [],
   "source": [
    "#|export\n",
    "def _cat_slug(fmdict):\n",
    "    \"Get the partial slug from the category front matter.\"\n",
    "    cats = [c for c in fmdict.get('categories', '').strip().strip('][').split(', ') if c]\n",
    "    return '/' + '/'.join(sorted(cats)) if cats else ''"
   ]
  },
  {
   "cell_type": "code",
   "execution_count": null,
   "id": "d449b10d-60de-417e-bfab-97af1f3b4b7b",
   "metadata": {},
   "outputs": [],
   "source": [
    "#|hide\n",
    "_fm1 = _get_fm('../tests/2020-09-01-fastcore.ipynb')\n",
    "test_eq(_cat_slug(_fm1), '/fastai/fastcore')\n",
    "\n",
    "_fm2 = _get_fm('../tests/2020-02-20-test.ipynb')\n",
    "test_eq(_cat_slug(_fm2), '/jupyter')"
   ]
  },
  {
   "cell_type": "code",
   "execution_count": null,
   "id": "9fac0338-a503-4680-984f-60153843d5ef",
   "metadata": {},
   "outputs": [],
   "source": [
    "#|export\n",
    "def _file_slug(fname): \n",
    "    \"Get the partial slug from the filename.\"\n",
    "    p = Path(fname)\n",
    "    dt = '/'+p.name[:10].replace('-', '/')+'/'\n",
    "    return dt + p.stem[11:]    "
   ]
  },
  {
   "cell_type": "code",
   "execution_count": null,
   "id": "65d5859a-571a-4ad7-8c50-57765b4603a8",
   "metadata": {},
   "outputs": [],
   "source": [
    "#|hide\n",
    "test_eq(_file_slug('../tests/2020-09-01-fastcore.ipynb'), \n",
    "        '/2020/09/01/fastcore')"
   ]
  },
  {
   "cell_type": "code",
   "execution_count": null,
   "id": "244b0d01-a166-4549-9a45-1f8b1195c3c8",
   "metadata": {},
   "outputs": [],
   "source": [
    "#|export\n",
    "def _add_alias(fm:dict, path:Path):\n",
    "    if 'permalink' in fm: fm['aliases'] = '[' + fm.pop('permalink').strip() + ']'\n",
    "    else: fm['aliases'] = '[' + _cat_slug(fm) + _file_slug(path) + ']'"
   ]
  },
  {
   "cell_type": "markdown",
   "id": "120a9d51-bae9-4f22-8d6e-0711d12b08ab",
   "metadata": {},
   "source": [
    "### Migrate notebooks"
   ]
  },
  {
   "cell_type": "code",
   "execution_count": null,
   "id": "c8440f8b-f69e-44d2-8556-8869c1eedf0f",
   "metadata": {},
   "outputs": [],
   "source": [
    "#|export\n",
    "def migrate_nb_fm(path, overwrite=True):\n",
    "    \"Migrate fastpages front matter in notebooks to a raw cell.\"\n",
    "    nb = read_nb(path)\n",
    "    if is_frontmatter(nb): return None\n",
    "    fm = nb_fmdict(nb)\n",
    "    _add_alias(fm, path)\n",
    "    insert_frontmatter(nb, fm_dict=fm)\n",
    "    if overwrite: write_nb(nb, path)\n",
    "    return nb"
   ]
  },
  {
   "cell_type": "code",
   "execution_count": null,
   "id": "a003953e-60d9-4374-98e6-451c2f03bbff",
   "metadata": {},
   "outputs": [],
   "source": [
    "_nb = migrate_nb_fm('../tests/2020-09-01-fastcore.ipynb', overwrite=False)\n",
    "print(_get_raw_fm(_nb))"
   ]
  },
  {
   "cell_type": "code",
   "execution_count": null,
   "id": "2010dbfc-be80-428c-a9cf-dd8fc80ac972",
   "metadata": {},
   "outputs": [],
   "source": [
    "_nb = migrate_nb_fm('../tests/2020-02-20-test.ipynb', overwrite=False)\n",
    "print(_get_raw_fm(_nb))"
   ]
  },
  {
   "cell_type": "markdown",
   "id": "4b76a431-7490-4021-9677-0cc17ee4bab1",
   "metadata": {},
   "source": [
    "### Migrate Markdown Files"
   ]
  },
  {
   "cell_type": "code",
   "execution_count": null,
   "id": "4cb91f17-ea7d-49c7-888f-98e32a3dcd1e",
   "metadata": {},
   "outputs": [],
   "source": [
    "#|export\n",
    "\n",
    "_re_fm_md = re.compile(r'^---(.*\\S+.)?---', flags=re.DOTALL)\n",
    "\n",
    "def _md_fmdict(txt):\n",
    "    \"Get front matter as a dict from a markdown file.\"\n",
    "    m = _re_fm_md.match(txt)\n",
    "    if m:\n",
    "        fm = [s.split(':', 1) for s in m.group(1).splitlines() if s]\n",
    "        return {k:v.strip() for k,v in fm if k and v}\n",
    "    else: return {}"
   ]
  },
  {
   "cell_type": "code",
   "execution_count": null,
   "id": "921a86d9-231a-475d-bf2c-e74746ec9b77",
   "metadata": {},
   "outputs": [],
   "source": [
    "#|hide\n",
    "_mdtxt = Path('../tests/2020-01-14-test-markdown-post.md').read_text()\n",
    "_res = _md_fmdict(_mdtxt)\n",
    "_res"
   ]
  },
  {
   "cell_type": "code",
   "execution_count": null,
   "id": "df18134b-427f-4798-8f04-3386e7d5a2ba",
   "metadata": {},
   "outputs": [],
   "source": [
    "#|hide\n",
    "test_eq(_res, {'toc': 'true',\n",
    "               'layout': 'post',\n",
    "               'description': 'A minimal example of using markdown with fastpages.',\n",
    "               'categories': '[markdown]',\n",
    "               'title': 'An Example Markdown Post'})"
   ]
  },
  {
   "cell_type": "code",
   "execution_count": null,
   "id": "d5d575f3-b3b8-487d-8740-b1ebdccf6b34",
   "metadata": {},
   "outputs": [],
   "source": [
    "#|export\n",
    "def migrate_md_fm(path, overwrite=True):\n",
    "    \"Make fastpages front matter in markdown files quarto compliant.\"\n",
    "    p = Path(path)\n",
    "    md = p.read_text()\n",
    "    fm = _md_fmdict(md)\n",
    "    if fm:\n",
    "        _add_alias(fm, path)\n",
    "        txt = _re_fm_md.sub(construct_fm(fm), md)\n",
    "        if overwrite: p.write_text(txt)\n",
    "        return txt\n",
    "    else: return md "
   ]
  },
  {
   "cell_type": "markdown",
   "id": "f2fc664a-7dcd-409c-8051-2a18ecda6228",
   "metadata": {},
   "source": [
    "Here is what the front matter of a markdown post looks like before:"
   ]
  },
  {
   "cell_type": "code",
   "execution_count": null,
   "id": "cbebe788-63cd-4b67-bbc3-80b2eabf712d",
   "metadata": {},
   "outputs": [],
   "source": [
    "#|eval: false\n",
    "print(run('head -n13 ../tests/2020-01-14-test-markdown-post.md'))"
   ]
  },
  {
   "cell_type": "markdown",
   "id": "5da2e267-485a-453a-b3bd-3eae01327187",
   "metadata": {},
   "source": [
    "And this is what it looks like after:"
   ]
  },
  {
   "cell_type": "code",
   "execution_count": null,
   "id": "734aa051-bc72-4f75-bfbd-7abd45126184",
   "metadata": {},
   "outputs": [],
   "source": [
    "_res = migrate_md_fm('../tests/2020-01-14-test-markdown-post.md', overwrite=False)\n",
    "print(_res[:300])"
   ]
  },
  {
   "cell_type": "code",
   "execution_count": null,
   "id": "549a2605-9835-45bc-b0ae-4bdaa6d44aa7",
   "metadata": {},
   "outputs": [],
   "source": [
    "#|hide\n",
    "assert \"\"\"---\n",
    "title: An Example Markdown Post\n",
    "description: A minimal example of using markdown with fastpages.\n",
    "categories: [markdown]\n",
    "aliases: [/markdown/2020/01/14/test-markdown-post]\n",
    "---\"\"\" in _res"
   ]
  },
  {
   "cell_type": "markdown",
   "id": "7ea931c9-e3a8-428e-8d41-61b0390254b8",
   "metadata": {},
   "source": [
    "## Convert nbdev v1 projects to nbdev v2\n",
    "\n",
    "### Migrate Directives"
   ]
  },
  {
   "cell_type": "code",
   "execution_count": null,
   "id": "0dde9fe8-d3ad-47b8-bd87-85b9536e9f96",
   "metadata": {},
   "outputs": [],
   "source": [
    "#|export\n",
    "def _re_v1():\n",
    "    d = ['default_exp', 'export', 'exports', 'exporti', 'hide', 'hide_input', 'collapse_show', \n",
    "         'collapse_hide', 'hide_output', 'collapse_input', 'collapse_output', 'default_cls_lvl']\n",
    "    d += L(config_key('tst_flags', [], path=False, missing_ok=True))\n",
    "    d += [s.replace('_', '-') for s in d] # allow for hyphenated version of old directives\n",
    "    _tmp = '|'.join(list(set(d)))\n",
    "    return re.compile(f\"^[ \\f\\v\\t]*?(#)\\s*({_tmp})\", re.MULTILINE)\n",
    "\n",
    "def _repl_directives(code_str): \n",
    "    def _fmt(x): return f\"#|{x.group(2).replace('-', '_')}\"\n",
    "    return _re_v1().sub(_fmt, code_str)\n"
   ]
  },
  {
   "cell_type": "code",
   "execution_count": null,
   "id": "610dcd47-b3cc-487a-905f-2796a6ebe4f8",
   "metadata": {},
   "outputs": [],
   "source": [
    "#|hide\n",
    "_test_dir = \"\"\"\n",
    "#default_exp\n",
    " #export\n",
    "# collapse-show\n",
    "#collapse-hide\n",
    "#collapse-output\n",
    "# collapse_output\n",
    "not_dir='#export'\n",
    "# hide_input\n",
    "foo\n",
    "\"\"\"\n",
    "test_eq(_repl_directives(_test_dir), \"\\n#|default_exp\\n#|export\\n#|collapse_show\\n#|collapse_hide\\n#|collapse_output\\n#|collapse_output\\nnot_dir='#export'\\n#|hide_input\\nfoo\\n\")"
   ]
  },
  {
   "cell_type": "code",
   "execution_count": null,
   "id": "cddcad93-1e44-4cbe-8dbd-9538533d0f8e",
   "metadata": {},
   "outputs": [],
   "source": [
    "#|export\n",
    "def _repl_v1dir(nb):\n",
    "    \"Replace nbdev v1 with v2 directives.\"\n",
    "    for cell in nb['cells']:\n",
    "        if cell.get('source') and cell.get('cell_type') == 'code':\n",
    "            ss = cell['source'].copy()\n",
    "            first_code = first_code_ln(ss, re_pattern=_re_v1())\n",
    "            if not first_code: first_code = len(ss)\n",
    "            if not ss: pass\n",
    "            else: cell['source'] = [_repl_directives(c) for c in ss[:first_code]] + ss[first_code:]"
   ]
  },
  {
   "cell_type": "code",
   "execution_count": null,
   "id": "b9173d2f-d75d-44be-9be7-1a94e8459324",
   "metadata": {},
   "outputs": [],
   "source": [
    "#|hide\n",
    "_code = _test_dir.splitlines(True)\n",
    "\n",
    "tst = {'cell_type': 'code', 'execution_count': 26,\n",
    "       'metadata': {'hide_input': True, 'meta': 23},\n",
    "       'outputs': [{'execution_count': 2,\n",
    "                    'data': {\n",
    "                        'application/vnd.google.colaboratory.intrinsic+json': {'type': 'string'},\n",
    "                        'plain/text': ['sample output',]\n",
    "                    }, 'output': 'super'}],\n",
    "       'source': _code}\n",
    "nb = {'metadata': {'kernelspec': 'some_spec', 'jekyll': 'some_meta', 'meta': 37}, 'cells': [tst]}\n",
    "\n",
    "_repl_v1dir(nb)\n",
    "test_eq(nb['cells'][0], {'cell_type': 'code',\n",
    "     'execution_count': 26,\n",
    "     'metadata': {'hide_input': True, 'meta': 23},\n",
    "     'outputs': [{'execution_count': 2,\n",
    "     'data': {'application/vnd.google.colaboratory.intrinsic+json': {'type': 'string'},\n",
    "     'plain/text': ['sample output']},\n",
    "     'output': 'super'}],\n",
    "     'source': ['\\n', '#|default_exp\\n', '#|export\\n', '#|collapse_show\\n', '#|collapse_hide\\n', '#|collapse_output\\n', '#|collapse_output\\n', \"not_dir='#export'\\n\", '# hide_input\\n', 'foo\\n']\n",
    "    })"
   ]
  },
  {
   "cell_type": "code",
   "execution_count": null,
   "id": "3eb0cd02-e1ee-4910-be82-570434b974b5",
   "metadata": {},
   "outputs": [],
   "source": [
    "#|export\n",
    "@call_parse\n",
    "def nbprocess_migrate_directives(\n",
    "    fname:str=None, # A notebook name or glob to convert\n",
    "    disp:bool=False,  # Print the outputs with newly formatted directives\n",
    "    stdin:bool=False, # Read input stream and not nb folder\n",
    "    no_skip:bool=False, # Do not skip directories beginning with an underscore\n",
    "):\n",
    "    \"Convert all directives in `fname` from v1 to v2.\"\n",
    "    _write = partial(process_write, warn_msg='Failed to replace directives', proc_nb=_repl_v1dir)\n",
    "    if stdin: _write(f_in=_wrapio(sys.stdin), f_out=_wrapio(sys.stdout))\n",
    "    _skip_re = None if no_skip else '^[_.]'\n",
    "    if fname is None: fname = config_key(\"nbs_path\", '.', missing_ok=True)\n",
    "    for f in globtastic(fname, file_glob='*.ipynb', skip_folder_re=_skip_re): _write(f_in=f, disp=disp)\n",
    "    "
   ]
  },
  {
   "cell_type": "markdown",
   "id": "a67431f9-52b1-45f8-9d9c-f5a6cb2aebb5",
   "metadata": {},
   "source": [
    "## Export -"
   ]
  },
  {
   "cell_type": "code",
   "execution_count": null,
   "id": "2945bb49-33e8-4066-8ef4-db3573a1f9ab",
   "metadata": {},
   "outputs": [],
   "source": [
    "#|hide\n",
    "#|eval:false\n",
    "from nbprocess.doclinks import nbprocess_export\n",
    "nbprocess_export()"
   ]
  },
  {
   "cell_type": "code",
   "execution_count": null,
   "id": "47159be5",
   "metadata": {},
   "outputs": [],
   "source": []
  }
 ],
 "metadata": {
  "kernelspec": {
   "display_name": "Python 3 (ipykernel)",
   "language": "python",
   "name": "python3"
  }
 },
 "nbformat": 4,
 "nbformat_minor": 5
}
