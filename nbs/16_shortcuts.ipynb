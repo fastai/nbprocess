{
 "cells": [
  {
   "cell_type": "code",
   "execution_count": null,
   "id": "f67bdcff-02fd-4351-9e0e-1f3d64b5031d",
   "metadata": {},
   "outputs": [],
   "source": [
    "#|default_exp shortcuts"
   ]
  },
  {
   "cell_type": "markdown",
   "id": "33baf27d-7b5d-4f71-9ca2-829a61ecf3ef",
   "metadata": {},
   "source": [
    "# shortcuts\n",
    "> Shortcuts for common operations you need to perform with nbprocess"
   ]
  },
  {
   "cell_type": "code",
   "execution_count": null,
   "id": "29a4d0e7-f540-44f4-acfb-75aa1df33112",
   "metadata": {},
   "outputs": [],
   "source": [
    "#|export\n",
    "import sys, shutil\n",
    "from pkg_resources import iter_entry_points as ep\n",
    "from os import system\n",
    "from nbprocess.read import get_config\n",
    "from nbprocess.test import nbprocess_test\n",
    "from nbprocess.clean import nbprocess_clean\n",
    "from nbprocess.doclinks import nbprocess_export\n",
    "from nbprocess.cli import nbprocess_quarto, nbprocess_sidebar, nbprocess_ghp_deploy, nbprocess_bump_version\n",
    "\n",
    "BASE_QUARTO_URL='https://www.quarto.org/download/latest/'\n",
    "\n",
    "def _dir(): return get_config().path(\"lib_path\").parent\n",
    "def _c(f, *args, **kwargs): return f.__wrapped__(*args, **kwargs)"
   ]
  },
  {
   "cell_type": "markdown",
   "id": "93c9a902-6980-4322-a9b1-f6ce1aabbe0a",
   "metadata": {},
   "source": [
    "## Installation"
   ]
  },
  {
   "cell_type": "code",
   "execution_count": null,
   "id": "7580d48f-e10e-4bb0-937e-90645b5dfd08",
   "metadata": {},
   "outputs": [],
   "source": [
    "#|export\n",
    "def _install_linux():\n",
    "    system(f'wget -nv {BASE_QUARTO_URL}quarto-linux-amd64.deb')\n",
    "    system('sudo dpkg -i *64.deb && rm *64.deb')\n",
    "    \n",
    "def _install_mac():\n",
    "    system(f'wget -nv {BASE_QUARTO_URL}quarto-macos.pkg')\n",
    "    system('open quarto-macos.pkg')\n",
    "\n",
    "def install_quarto():\n",
    "    \"Installs latest quarto on mac or linux.  Prints instructions for Windows.\"\n",
    "    system('sudo echo \"...installing Quarto\"')\n",
    "    \"Install quarto for mac and linux platforms.\"\n",
    "    if 'darwin' in sys.platform: _install_mac()\n",
    "    elif 'linux' in sys.platform: _install_linux()\n",
    "    else: print('Please visit https://quarto.org/docs/get-started/ to install quarto')\n",
    "    \n",
    "def install():\n",
    "    \"Install quarto and the current library.\"\n",
    "    install_quarto()\n",
    "    system(f'pip install -e \"{_dir()}[dev]\"')\n",
    "    "
   ]
  },
  {
   "cell_type": "markdown",
   "id": "1296f637-f7b3-4274-aad9-9ab6c1012b0f",
   "metadata": {},
   "source": [
    "## Docs\n",
    "\n",
    "### Generate Docs"
   ]
  },
  {
   "cell_type": "code",
   "execution_count": null,
   "id": "fafaf455-46d0-4552-aec6-fb5dd1eaa1c9",
   "metadata": {},
   "outputs": [],
   "source": [
    "#|export\n",
    "def _quarto_installed(): return bool(shutil.which('quarto'))\n",
    "\n",
    "def docs():\n",
    "    \"Generate the docs.\"\n",
    "    if not _quarto_installed(): install()\n",
    "    _c(nbprocess_quarto)"
   ]
  },
  {
   "cell_type": "markdown",
   "id": "e2ea5ae5-f1a1-453d-bac5-0a4f6df1961c",
   "metadata": {},
   "source": [
    "### Preview Docs"
   ]
  },
  {
   "cell_type": "code",
   "execution_count": null,
   "id": "035d0b04-e05e-408b-83da-587b27403579",
   "metadata": {},
   "outputs": [],
   "source": [
    "#|export\n",
    "def preview():\n",
    "    \"Start a local docs webserver.\"\n",
    "    if not _quarto_installed(): install()\n",
    "    _c(nbprocess_sidebar)\n",
    "    _c(nbprocess_quarto, preview=True)"
   ]
  },
  {
   "cell_type": "markdown",
   "id": "fdd5b4d7-e7d3-4b34-8a28-42f87264ec3d",
   "metadata": {},
   "source": [
    "### Deploy Docs"
   ]
  },
  {
   "cell_type": "code",
   "execution_count": null,
   "id": "ee274766-15d1-4680-8e7a-4e057a8dfe06",
   "metadata": {},
   "outputs": [],
   "source": [
    "#|export   \n",
    "def deploy():\n",
    "    \"Deploy docs to GitHub Pages.\"\n",
    "    docs()\n",
    "    _c(nbprocess_ghp_deploy)"
   ]
  },
  {
   "cell_type": "markdown",
   "id": "e4b55c19-efe7-4ccc-9908-1c96ae9e1cd8",
   "metadata": {},
   "source": [
    "## Publish Packages"
   ]
  },
  {
   "cell_type": "code",
   "execution_count": null,
   "id": "530c1310-d2be-4839-8f61-05c38dd4135e",
   "metadata": {},
   "outputs": [],
   "source": [
    "#|export\n",
    "def _dist(): system(f'cd {_dir()}  && rm -rf dist && python setup.py sdist bdist_wheel')\n",
    "    \n",
    "def pypi(ver_bump=True):\n",
    "    \"Create and upload python package to pypi.\"\n",
    "    _dist()\n",
    "    system(f'twine upload --repository pypi {_dir()}/dist/*')\n",
    "    if ver_bump: _c(nbprocess_bump_version)\n",
    "    \n",
    "def conda(ver_bump=True): \n",
    "    \"Create and upload a conda package.\"\n",
    "    system(f'fastrelease_conda_package {_dir()}')\n",
    "    if ver_bump: _c(nbprocess_bump_version)\n",
    "    \n",
    "def release():\n",
    "    \"Release both conda and pypi packages.\"\n",
    "    pypi(ver_bump=False)\n",
    "    conda(ver_bump=False)\n",
    "    _c(nbprocess_bump_version)"
   ]
  },
  {
   "cell_type": "markdown",
   "id": "c58161f4-8c6b-4302-9963-cee952ffcb52",
   "metadata": {},
   "source": [
    "## Other Shortcuts"
   ]
  },
  {
   "cell_type": "code",
   "execution_count": null,
   "id": "8a44f6b9-f622-4893-9e11-8015f73cc259",
   "metadata": {},
   "outputs": [],
   "source": [
    "#|export\n",
    "def prepare():\n",
    "    \"Export notebooks to python modules, test code and clean notebooks.\"\n",
    "    _c(nbprocess_export)\n",
    "    _c(nbprocess_test)\n",
    "    _c(nbprocess_clean)"
   ]
  },
  {
   "cell_type": "markdown",
   "id": "280e0d6d-6559-4fc3-9478-320ce5eff0dc",
   "metadata": {},
   "source": [
    "## Help\n",
    "\n",
    "Generate help for all console scripts"
   ]
  },
  {
   "cell_type": "code",
   "execution_count": null,
   "id": "e34f6ff4-f85b-4805-b406-121279cc9246",
   "metadata": {},
   "outputs": [],
   "source": [
    "#|export\n",
    "def chelp():\n",
    "    \"Show help for all console scripts\"\n",
    "    for e in ep('console_scripts'): \n",
    "        if e.module_name.startswith('nbprocess'): \n",
    "            nm = f'\\033[1m\\033[94m{e.name}\\033[0m'\n",
    "            spc = ' ' * (40 - len(nm))\n",
    "            print(f'{nm}     {spc}{e.load().__doc__}')"
   ]
  },
  {
   "cell_type": "code",
   "execution_count": null,
   "id": "b50d27fb-c343-47e2-a008-7ebdd02e1356",
   "metadata": {},
   "outputs": [],
   "source": [
    "chelp()"
   ]
  },
  {
   "cell_type": "markdown",
   "id": "7c59bd7a-c859-47c4-925e-a0dd7d2f4646",
   "metadata": {},
   "source": [
    "# Export -"
   ]
  },
  {
   "cell_type": "code",
   "execution_count": null,
   "id": "3512ccd8-c0f3-42be-a949-f324b5b0d447",
   "metadata": {},
   "outputs": [],
   "source": [
    "#|hide\n",
    "#|eval: false\n",
    "from nbprocess.doclinks import nbprocess_export\n",
    "nbprocess_export()"
   ]
  },
  {
   "cell_type": "code",
   "execution_count": null,
   "id": "c90b28e0-3b33-4d02-b263-f6b40cfea0e1",
   "metadata": {},
   "outputs": [],
   "source": []
  }
 ],
 "metadata": {
  "kernelspec": {
   "display_name": "Python 3 (ipykernel)",
   "language": "python",
   "name": "python3"
  }
 },
 "nbformat": 4,
 "nbformat_minor": 5
}
